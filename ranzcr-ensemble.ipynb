{
 "cells": [
  {
   "cell_type": "markdown",
   "metadata": {
    "papermill": {
     "duration": 0.016449,
     "end_time": "2021-03-16T08:14:23.929262",
     "exception": false,
     "start_time": "2021-03-16T08:14:23.912813",
     "status": "completed"
    },
    "tags": []
   },
   "source": [
    "# RANZCR_Ensemble\n",
    "![](https://storage.googleapis.com/kaggle-competitions/kaggle/23870/logos/header.png?t=2020-12-01-04-28-05)\n",
    "\n",
    "Serious complications can occur as a result of malpositioned lines and tubes in patients. Doctors and nurses frequently use checklists for placement of lifesaving equipment to ensure they follow protocol in managing patients. Yet, these steps can be time consuming and are still prone to human error, especially in stressful situations when hospitals are at capacity.\n",
    "\n",
    "Hospital patients can have catheters and lines inserted during the course of their admission and serious complications can arise if they are positioned incorrectly. Nasogastric tube malpositioning into the airways has been reported in up to 3% of cases, with up to 40% of these cases demonstrating complications [1-3]. Airway tube malposition in adult patients intubated outside the operating room is seen in up to 25% of cases [4,5]. The likelihood of complication is directly related to both the experience level and specialty of the proceduralist. Early recognition of malpositioned tubes is the key to preventing risky complications (even death), even more so now that millions of COVID-19 patients are in need of these tubes and lines.\n",
    "\n",
    "The gold standard for the confirmation of line and tube positions are chest radiographs. However, a physician or radiologist must manually check these chest x-rays to verify that the lines and tubes are in the optimal position. Not only does this leave room for human error, but delays are also common as radiologists can be busy reporting other scans. Deep learning algorithms may be able to automatically detect malpositioned catheters and lines. Once alerted, clinicians can reposition or remove them to avoid life-threatening complications.\n",
    "\n",
    "## This ensemble includes models from 3 parts of the project:\n",
    "- Xception part(`ranzcr-xception-tpu-baseline.ipynb`, `ranzcr-xception-tpu-prediction.ipynb`)\n",
    "- EfficientNetB7 part(`effnetb7-tpu.ipynb`, `effnetb7-tpu-prediction.ipynb`)\n",
    "- EfficientNetB4_CV part(`ranzcr-efb4-cv-tr.ipynb`, `ranzcr-efb4-cv-pr.ipynb`)"
   ]
  },
  {
   "cell_type": "code",
   "execution_count": 1,
   "metadata": {
    "execution": {
     "iopub.execute_input": "2021-03-16T08:14:23.966275Z",
     "iopub.status.busy": "2021-03-16T08:14:23.965428Z",
     "iopub.status.idle": "2021-03-16T08:15:16.835415Z",
     "shell.execute_reply": "2021-03-16T08:15:16.834413Z"
    },
    "papermill": {
     "duration": 52.891668,
     "end_time": "2021-03-16T08:15:16.835566",
     "exception": false,
     "start_time": "2021-03-16T08:14:23.943898",
     "status": "completed"
    },
    "tags": []
   },
   "outputs": [],
   "source": [
    "!pip install /kaggle/input/kerasapplications -q\n",
    "!pip install /kaggle/input/efficientnet-keras-source-code/ -q --no-deps"
   ]
  },
  {
   "cell_type": "code",
   "execution_count": 2,
   "metadata": {
    "execution": {
     "iopub.execute_input": "2021-03-16T08:15:16.874767Z",
     "iopub.status.busy": "2021-03-16T08:15:16.873843Z",
     "iopub.status.idle": "2021-03-16T08:15:22.595671Z",
     "shell.execute_reply": "2021-03-16T08:15:22.594741Z"
    },
    "papermill": {
     "duration": 5.745177,
     "end_time": "2021-03-16T08:15:22.595779",
     "exception": false,
     "start_time": "2021-03-16T08:15:16.850602",
     "status": "completed"
    },
    "tags": []
   },
   "outputs": [],
   "source": [
    "import efficientnet.tfkeras as efn"
   ]
  },
  {
   "cell_type": "code",
   "execution_count": 3,
   "metadata": {
    "_kg_hide-input": true,
    "execution": {
     "iopub.execute_input": "2021-03-16T08:15:22.633493Z",
     "iopub.status.busy": "2021-03-16T08:15:22.632779Z",
     "iopub.status.idle": "2021-03-16T08:15:23.221831Z",
     "shell.execute_reply": "2021-03-16T08:15:23.220502Z"
    },
    "papermill": {
     "duration": 0.611151,
     "end_time": "2021-03-16T08:15:23.221959",
     "exception": false,
     "start_time": "2021-03-16T08:15:22.610808",
     "status": "completed"
    },
    "tags": []
   },
   "outputs": [],
   "source": [
    "import numpy as np\n",
    "import pandas as pd\n",
    "import matplotlib.pyplot as plt\n",
    "import seaborn as sns\n",
    "\n",
    "from sklearn.model_selection import train_test_split\n",
    "import tensorflow as tf\n",
    "from tensorflow.keras import models, layers\n",
    "from tensorflow.keras.preprocessing import image\n",
    "from tensorflow.keras.callbacks import ModelCheckpoint, EarlyStopping, ReduceLROnPlateau\n",
    "from tensorflow.keras.applications import Xception, EfficientNetB7, InceptionResNetV2\n",
    "from tensorflow.keras.optimizers import Adam\n",
    "import tensorflow_addons as tfa\n",
    "\n",
    "# ignoring warnings\n",
    "import warnings\n",
    "warnings.simplefilter(\"ignore\")\n",
    "\n",
    "import os, cv2\n",
    "from PIL import Image"
   ]
  },
  {
   "cell_type": "code",
   "execution_count": 4,
   "metadata": {
    "_kg_hide-input": true,
    "execution": {
     "iopub.execute_input": "2021-03-16T08:15:23.255804Z",
     "iopub.status.busy": "2021-03-16T08:15:23.255095Z",
     "iopub.status.idle": "2021-03-16T08:15:23.257990Z",
     "shell.execute_reply": "2021-03-16T08:15:23.257447Z"
    },
    "papermill": {
     "duration": 0.021124,
     "end_time": "2021-03-16T08:15:23.258121",
     "exception": false,
     "start_time": "2021-03-16T08:15:23.236997",
     "status": "completed"
    },
    "tags": []
   },
   "outputs": [],
   "source": [
    "# TPU or GPU detection\n",
    "# Detect hardware, return appropriate distribution strategy\n",
    "# try:\n",
    "#     tpu = tf.distribute.cluster_resolver.TPUClusterResolver()\n",
    "#     print(f'Running on TPU {tpu.master()}')\n",
    "# except ValueError:\n",
    "#     tpu = None\n",
    "\n",
    "# if tpu:\n",
    "#     tf.config.experimental_connect_to_cluster(tpu)\n",
    "#     tf.tpu.experimental.initialize_tpu_system(tpu)\n",
    "#     strategy = tf.distribute.experimental.TPUStrategy(tpu)\n",
    "# else:\n",
    "#     strategy = tf.distribute.get_strategy()\n",
    "\n",
    "# AUTO = tf.data.experimental.AUTOTUNE\n",
    "# REPLICAS = strategy.num_replicas_in_sync\n",
    "# print(f'REPLICAS: {REPLICAS}')"
   ]
  },
  {
   "cell_type": "code",
   "execution_count": 5,
   "metadata": {
    "execution": {
     "iopub.execute_input": "2021-03-16T08:15:23.290805Z",
     "iopub.status.busy": "2021-03-16T08:15:23.290306Z",
     "iopub.status.idle": "2021-03-16T08:15:23.297594Z",
     "shell.execute_reply": "2021-03-16T08:15:23.297175Z"
    },
    "papermill": {
     "duration": 0.024935,
     "end_time": "2021-03-16T08:15:23.297682",
     "exception": false,
     "start_time": "2021-03-16T08:15:23.272747",
     "status": "completed"
    },
    "tags": []
   },
   "outputs": [
    {
     "data": {
      "text/plain": [
       "['train_tfrecords',\n",
       " 'sample_submission.csv',\n",
       " 'train_annotations.csv',\n",
       " 'test_tfrecords',\n",
       " 'train.csv',\n",
       " 'test',\n",
       " 'train']"
      ]
     },
     "execution_count": 5,
     "metadata": {},
     "output_type": "execute_result"
    }
   ],
   "source": [
    "WORK_DIR = '../input/ranzcr-clip-catheter-line-classification'\n",
    "os.listdir(WORK_DIR)"
   ]
  },
  {
   "cell_type": "code",
   "execution_count": 6,
   "metadata": {
    "execution": {
     "iopub.execute_input": "2021-03-16T08:15:23.337217Z",
     "iopub.status.busy": "2021-03-16T08:15:23.336669Z",
     "iopub.status.idle": "2021-03-16T08:15:23.681708Z",
     "shell.execute_reply": "2021-03-16T08:15:23.680786Z"
    },
    "papermill": {
     "duration": 0.368717,
     "end_time": "2021-03-16T08:15:23.681884",
     "exception": false,
     "start_time": "2021-03-16T08:15:23.313167",
     "status": "completed"
    },
    "tags": []
   },
   "outputs": [
    {
     "name": "stdout",
     "output_type": "stream",
     "text": [
      "Labels:\n",
      " ******************** \n",
      " ['ETT - Abnormal' 'ETT - Borderline' 'ETT - Normal' 'NGT - Abnormal'\n",
      " 'NGT - Borderline' 'NGT - Incompletely Imaged' 'NGT - Normal'\n",
      " 'CVC - Abnormal' 'CVC - Borderline' 'CVC - Normal'\n",
      " 'Swan Ganz Catheter Present']\n",
      "**************************************************\n"
     ]
    },
    {
     "data": {
      "text/html": [
       "<div>\n",
       "<style scoped>\n",
       "    .dataframe tbody tr th:only-of-type {\n",
       "        vertical-align: middle;\n",
       "    }\n",
       "\n",
       "    .dataframe tbody tr th {\n",
       "        vertical-align: top;\n",
       "    }\n",
       "\n",
       "    .dataframe thead th {\n",
       "        text-align: right;\n",
       "    }\n",
       "</style>\n",
       "<table border=\"1\" class=\"dataframe\">\n",
       "  <thead>\n",
       "    <tr style=\"text-align: right;\">\n",
       "      <th></th>\n",
       "      <th>StudyInstanceUID</th>\n",
       "      <th>ETT - Abnormal</th>\n",
       "      <th>ETT - Borderline</th>\n",
       "      <th>ETT - Normal</th>\n",
       "      <th>NGT - Abnormal</th>\n",
       "      <th>NGT - Borderline</th>\n",
       "      <th>NGT - Incompletely Imaged</th>\n",
       "      <th>NGT - Normal</th>\n",
       "      <th>CVC - Abnormal</th>\n",
       "      <th>CVC - Borderline</th>\n",
       "      <th>CVC - Normal</th>\n",
       "      <th>Swan Ganz Catheter Present</th>\n",
       "      <th>PatientID</th>\n",
       "    </tr>\n",
       "  </thead>\n",
       "  <tbody>\n",
       "    <tr>\n",
       "      <th>0</th>\n",
       "      <td>1.2.826.0.1.3680043.8.498.26697628953273228189...</td>\n",
       "      <td>0</td>\n",
       "      <td>0</td>\n",
       "      <td>0</td>\n",
       "      <td>0</td>\n",
       "      <td>0</td>\n",
       "      <td>0</td>\n",
       "      <td>1</td>\n",
       "      <td>0</td>\n",
       "      <td>0</td>\n",
       "      <td>0</td>\n",
       "      <td>0</td>\n",
       "      <td>ec89415d1</td>\n",
       "    </tr>\n",
       "    <tr>\n",
       "      <th>1</th>\n",
       "      <td>1.2.826.0.1.3680043.8.498.46302891597398758759...</td>\n",
       "      <td>0</td>\n",
       "      <td>0</td>\n",
       "      <td>1</td>\n",
       "      <td>0</td>\n",
       "      <td>0</td>\n",
       "      <td>1</td>\n",
       "      <td>0</td>\n",
       "      <td>0</td>\n",
       "      <td>0</td>\n",
       "      <td>1</td>\n",
       "      <td>0</td>\n",
       "      <td>bf4c6da3c</td>\n",
       "    </tr>\n",
       "    <tr>\n",
       "      <th>2</th>\n",
       "      <td>1.2.826.0.1.3680043.8.498.23819260719748494858...</td>\n",
       "      <td>0</td>\n",
       "      <td>0</td>\n",
       "      <td>0</td>\n",
       "      <td>0</td>\n",
       "      <td>0</td>\n",
       "      <td>0</td>\n",
       "      <td>0</td>\n",
       "      <td>0</td>\n",
       "      <td>1</td>\n",
       "      <td>0</td>\n",
       "      <td>0</td>\n",
       "      <td>3fc1c97e5</td>\n",
       "    </tr>\n",
       "    <tr>\n",
       "      <th>3</th>\n",
       "      <td>1.2.826.0.1.3680043.8.498.68286643202323212801...</td>\n",
       "      <td>0</td>\n",
       "      <td>0</td>\n",
       "      <td>0</td>\n",
       "      <td>0</td>\n",
       "      <td>0</td>\n",
       "      <td>0</td>\n",
       "      <td>0</td>\n",
       "      <td>1</td>\n",
       "      <td>0</td>\n",
       "      <td>0</td>\n",
       "      <td>0</td>\n",
       "      <td>c31019814</td>\n",
       "    </tr>\n",
       "    <tr>\n",
       "      <th>4</th>\n",
       "      <td>1.2.826.0.1.3680043.8.498.10050203009225938259...</td>\n",
       "      <td>0</td>\n",
       "      <td>0</td>\n",
       "      <td>0</td>\n",
       "      <td>0</td>\n",
       "      <td>0</td>\n",
       "      <td>0</td>\n",
       "      <td>0</td>\n",
       "      <td>0</td>\n",
       "      <td>0</td>\n",
       "      <td>1</td>\n",
       "      <td>0</td>\n",
       "      <td>207685cd1</td>\n",
       "    </tr>\n",
       "  </tbody>\n",
       "</table>\n",
       "</div>"
      ],
      "text/plain": [
       "                                    StudyInstanceUID  ETT - Abnormal  \\\n",
       "0  1.2.826.0.1.3680043.8.498.26697628953273228189...               0   \n",
       "1  1.2.826.0.1.3680043.8.498.46302891597398758759...               0   \n",
       "2  1.2.826.0.1.3680043.8.498.23819260719748494858...               0   \n",
       "3  1.2.826.0.1.3680043.8.498.68286643202323212801...               0   \n",
       "4  1.2.826.0.1.3680043.8.498.10050203009225938259...               0   \n",
       "\n",
       "   ETT - Borderline  ETT - Normal  NGT - Abnormal  NGT - Borderline  \\\n",
       "0                 0             0               0                 0   \n",
       "1                 0             1               0                 0   \n",
       "2                 0             0               0                 0   \n",
       "3                 0             0               0                 0   \n",
       "4                 0             0               0                 0   \n",
       "\n",
       "   NGT - Incompletely Imaged  NGT - Normal  CVC - Abnormal  CVC - Borderline  \\\n",
       "0                          0             1               0                 0   \n",
       "1                          1             0               0                 0   \n",
       "2                          0             0               0                 1   \n",
       "3                          0             0               1                 0   \n",
       "4                          0             0               0                 0   \n",
       "\n",
       "   CVC - Normal  Swan Ganz Catheter Present  PatientID  \n",
       "0             0                           0  ec89415d1  \n",
       "1             1                           0  bf4c6da3c  \n",
       "2             0                           0  3fc1c97e5  \n",
       "3             0                           0  c31019814  \n",
       "4             1                           0  207685cd1  "
      ]
     },
     "execution_count": 6,
     "metadata": {},
     "output_type": "execute_result"
    }
   ],
   "source": [
    "# Data\n",
    "train = pd.read_csv(os.path.join(WORK_DIR, \"train.csv\"))\n",
    "train_images = WORK_DIR + \"/train/\" + train['StudyInstanceUID'] + '.jpg'\n",
    "\n",
    "ss = pd.read_csv(os.path.join(WORK_DIR, 'sample_submission.csv'))\n",
    "test_images = WORK_DIR + \"/test/\" + ss['StudyInstanceUID'] + '.jpg'\n",
    "\n",
    "label_cols = ss.columns[1:]\n",
    "labels = train[label_cols].values\n",
    "\n",
    "train_annot = pd.read_csv(os.path.join(WORK_DIR, \"train_annotations.csv\"))\n",
    "\n",
    "print('Labels:\\n', '*'*20, '\\n', label_cols.values)\n",
    "print('*'*50)\n",
    "train.head()"
   ]
  },
  {
   "cell_type": "code",
   "execution_count": 7,
   "metadata": {
    "execution": {
     "iopub.execute_input": "2021-03-16T08:15:23.761226Z",
     "iopub.status.busy": "2021-03-16T08:15:23.760035Z",
     "iopub.status.idle": "2021-03-16T08:15:23.763165Z",
     "shell.execute_reply": "2021-03-16T08:15:23.762270Z"
    },
    "papermill": {
     "duration": 0.047995,
     "end_time": "2021-03-16T08:15:23.763443",
     "exception": false,
     "start_time": "2021-03-16T08:15:23.715448",
     "status": "completed"
    },
    "tags": []
   },
   "outputs": [],
   "source": [
    "# Main parameters\n",
    "BATCH_SIZE = 8 * 1\n",
    "STEPS_PER_EPOCH = len(train) * (1 / 7 * 6) / BATCH_SIZE\n",
    "VALIDATION_STEPS = len(train) * (1 / 7 * 1) / BATCH_SIZE\n",
    "EPOCHS = 30\n",
    "TARGET_SIZE_1 = 550\n",
    "TARGET_SIZE_2 = 750"
   ]
  },
  {
   "cell_type": "markdown",
   "metadata": {
    "papermill": {
     "duration": 0.03041,
     "end_time": "2021-03-16T08:15:23.826399",
     "exception": false,
     "start_time": "2021-03-16T08:15:23.795989",
     "status": "completed"
    },
    "tags": []
   },
   "source": [
    "# EffNetB7"
   ]
  },
  {
   "cell_type": "code",
   "execution_count": 8,
   "metadata": {
    "_kg_hide-input": true,
    "execution": {
     "iopub.execute_input": "2021-03-16T08:15:23.900381Z",
     "iopub.status.busy": "2021-03-16T08:15:23.899536Z",
     "iopub.status.idle": "2021-03-16T08:15:23.927983Z",
     "shell.execute_reply": "2021-03-16T08:15:23.929028Z"
    },
    "papermill": {
     "duration": 0.071406,
     "end_time": "2021-03-16T08:15:23.929194",
     "exception": false,
     "start_time": "2021-03-16T08:15:23.857788",
     "status": "completed"
    },
    "tags": []
   },
   "outputs": [],
   "source": [
    "def build_decoder(with_labels = True,\n",
    "                  target_size = (TARGET_SIZE_2, TARGET_SIZE_2), \n",
    "                  ext = 'jpg'):\n",
    "    def decode(path):\n",
    "        file_bytes = tf.io.read_file(path)\n",
    "        if ext == 'png':\n",
    "            img = tf.image.decode_png(file_bytes, channels = 3)\n",
    "        elif ext in ['jpg', 'jpeg']:\n",
    "            img = tf.image.decode_jpeg(file_bytes, channels = 3)\n",
    "        else:\n",
    "            raise ValueError(\"Image extension not supported\")\n",
    "\n",
    "        img = tf.cast(img, tf.float32) / 255.0\n",
    "        img = tf.image.resize(img, target_size)\n",
    "\n",
    "        return img\n",
    "    \n",
    "    def decode_with_labels(path, label):\n",
    "        return decode(path), label\n",
    "    \n",
    "    return decode_with_labels if with_labels else decode\n",
    "\n",
    "\n",
    "def build_augmenter(with_labels = True):\n",
    "    def augment(img):\n",
    "        img = tf.image.random_flip_left_right(img)\n",
    "        img = tf.image.random_flip_up_down(img)\n",
    "        \n",
    "        p_rotate = tf.random.uniform([], 0, 1.0, dtype = tf.float32)\n",
    "        p_pixel_1 = tf.random.uniform([], 0, 1.0, dtype = tf.float32)\n",
    "        p_pixel_2 = tf.random.uniform([], 0, 1.0, dtype = tf.float32)\n",
    "        p_pixel_3 = tf.random.uniform([], 0, 1.0, dtype = tf.float32)\n",
    "#         p_crop = tf.random.uniform([], 0, 1.0, dtype = tf.float32)\n",
    "        \n",
    "        if p_rotate > .75:\n",
    "            img = tf.image.rot90(img, k = 3) # rotate 270º\n",
    "        elif p_rotate > .5:\n",
    "            img = tf.image.rot90(img, k = 2) # rotate 180º\n",
    "        elif p_rotate > .25:\n",
    "            img = tf.image.rot90(img, k = 1) # rotate 90º\n",
    "            \n",
    "        if p_pixel_1 >= .6:\n",
    "            img = tf.image.random_saturation(img, lower = 0.75, upper = 1.25)\n",
    "        if p_pixel_2 >= .6:\n",
    "            img = tf.image.random_contrast(img, lower = 0.75, upper = 1.25)\n",
    "        if p_pixel_3 >= .4:\n",
    "            img = tf.image.random_brightness(img, max_delta = 0.1)\n",
    "        \n",
    "#         if p_crop > .7:\n",
    "#             if p_crop > .9:\n",
    "#                 img = tf.image.central_crop(img, central_fraction=.75)\n",
    "#             elif p_crop > .8:\n",
    "#                 img = tf.image.central_crop(img, central_fraction=.85)\n",
    "#             else:\n",
    "#                 img = tf.image.central_crop(img, central_fraction=.95)\n",
    "#         elif p_crop > .4:\n",
    "#             crop_size = tf.random.uniform([], int(TARGET_SIZE * .85), TARGET_SIZE, dtype = tf.int32)\n",
    "#             img = tf.image.random_crop(img, size = [crop_size, crop_size, 3])\n",
    "        \n",
    "#         img = tf.image.resize(img, size = [TARGET_SIZE, TARGET_SIZE])\n",
    "        \n",
    "        return img\n",
    "    \n",
    "    def augment_with_labels(img, label):\n",
    "        return augment(img), label\n",
    "    \n",
    "    return augment_with_labels if with_labels else augment\n",
    "\n",
    "\n",
    "def build_dataset(paths, labels = None, bsize = 32, cache = True,\n",
    "                  decode_fn = None, augment_fn = None,\n",
    "                  augment = True, repeat = True, shuffle = 1024, \n",
    "                  cache_dir = \"\"):\n",
    "    if cache_dir != \"\" and cache is True:\n",
    "        os.makedirs(cache_dir, exist_ok=True)\n",
    "    \n",
    "    if decode_fn is None:\n",
    "        decode_fn = build_decoder(labels is not None)\n",
    "    \n",
    "    if augment_fn is None:\n",
    "        augment_fn = build_augmenter(labels is not None)\n",
    "    \n",
    "    AUTO = tf.data.experimental.AUTOTUNE\n",
    "    slices = paths if labels is None else (paths, labels)\n",
    "    \n",
    "    dset = tf.data.Dataset.from_tensor_slices(slices)\n",
    "    dset = dset.map(decode_fn, num_parallel_calls = AUTO)\n",
    "    dset = dset.cache(cache_dir) if cache else dset\n",
    "    dset = dset.map(augment_fn, num_parallel_calls = AUTO) if augment else dset\n",
    "    dset = dset.repeat() if repeat else dset\n",
    "    dset = dset.shuffle(shuffle) if shuffle else dset\n",
    "    dset = dset.batch(bsize).prefetch(AUTO)\n",
    "    \n",
    "    return dset"
   ]
  },
  {
   "cell_type": "code",
   "execution_count": 9,
   "metadata": {
    "execution": {
     "iopub.execute_input": "2021-03-16T08:15:23.991884Z",
     "iopub.status.busy": "2021-03-16T08:15:23.991123Z",
     "iopub.status.idle": "2021-03-16T08:15:26.608146Z",
     "shell.execute_reply": "2021-03-16T08:15:26.608538Z"
    },
    "papermill": {
     "duration": 2.652429,
     "end_time": "2021-03-16T08:15:26.608675",
     "exception": false,
     "start_time": "2021-03-16T08:15:23.956246",
     "status": "completed"
    },
    "tags": []
   },
   "outputs": [
    {
     "data": {
      "text/plain": [
       "<PrefetchDataset shapes: (None, 750, 750, 3), types: tf.float32>"
      ]
     },
     "execution_count": 9,
     "metadata": {},
     "output_type": "execute_result"
    }
   ],
   "source": [
    "test_df_B7 = build_dataset(\n",
    "    test_images, bsize = BATCH_SIZE, repeat = False, \n",
    "    shuffle = False, augment = False, cache = False)\n",
    "test_df_B7"
   ]
  },
  {
   "cell_type": "markdown",
   "metadata": {
    "papermill": {
     "duration": 0.016673,
     "end_time": "2021-03-16T08:15:26.642199",
     "exception": false,
     "start_time": "2021-03-16T08:15:26.625526",
     "status": "completed"
    },
    "tags": []
   },
   "source": [
    "# Xception"
   ]
  },
  {
   "cell_type": "code",
   "execution_count": 10,
   "metadata": {
    "_kg_hide-input": true,
    "execution": {
     "iopub.execute_input": "2021-03-16T08:15:26.695690Z",
     "iopub.status.busy": "2021-03-16T08:15:26.694173Z",
     "iopub.status.idle": "2021-03-16T08:15:26.696738Z",
     "shell.execute_reply": "2021-03-16T08:15:26.697168Z"
    },
    "papermill": {
     "duration": 0.038516,
     "end_time": "2021-03-16T08:15:26.697278",
     "exception": false,
     "start_time": "2021-03-16T08:15:26.658762",
     "status": "completed"
    },
    "tags": []
   },
   "outputs": [],
   "source": [
    "def build_decoder(with_labels = True,\n",
    "                  target_size = (TARGET_SIZE_2, TARGET_SIZE_2), \n",
    "                  ext = 'jpg'):\n",
    "    def decode(path):\n",
    "        file_bytes = tf.io.read_file(path)\n",
    "        if ext == 'png':\n",
    "            img = tf.image.decode_png(file_bytes, channels = 3)\n",
    "        elif ext in ['jpg', 'jpeg']:\n",
    "            img = tf.image.decode_jpeg(file_bytes, channels = 3)\n",
    "        else:\n",
    "            raise ValueError(\"Image extension not supported\")\n",
    "\n",
    "        img = tf.cast(img, tf.float32) / 255.0\n",
    "        img = tf.image.resize(img, target_size)\n",
    "\n",
    "        return img\n",
    "    \n",
    "    def decode_with_labels(path, label):\n",
    "        return decode(path), label\n",
    "    \n",
    "    return decode_with_labels if with_labels else decode\n",
    "\n",
    "\n",
    "def build_augmenter(with_labels = True):\n",
    "    def augment(img):\n",
    "        img = tf.image.random_flip_left_right(img)\n",
    "        img = tf.image.random_flip_up_down(img)\n",
    "        img = tf.image.adjust_brightness(img, 0.1)\n",
    "        \n",
    "#         rotate = tf.random.uniform([], 0, 1.0, dtype = tf.float32)      \n",
    "#         if rotate > .75:\n",
    "#             img = tf.image.rot90(img, k = 3)\n",
    "#         elif rotate > .5:\n",
    "#             img = tf.image.rot90(img, k = 2)\n",
    "#         elif rotate > .25:\n",
    "#             img = tf.image.rot90(img, k = 1)\n",
    "        \n",
    "#         saturation = tf.random.uniform([], 0, 1.0, dtype = tf.float32)\n",
    "#         if saturation >= .5:\n",
    "#             img = tf.image.random_saturation(img, lower = 0.9, upper = 1.1)\n",
    "        \n",
    "#         contrast = tf.random.uniform([], 0, 1.0, dtype = tf.float32)\n",
    "#         if contrast >= .5:\n",
    "#             img = tf.image.random_contrast(img, lower = 0.9, upper = 1.1)\n",
    "        \n",
    "#         brightness = tf.random.uniform([], 0, 1.0, dtype = tf.float32)\n",
    "#         if brightness >= .5:\n",
    "#             img = tf.image.random_brightness(img, max_delta = 0.1)\n",
    "            \n",
    "        return img\n",
    "    \n",
    "    def augment_with_labels(img, label):\n",
    "        return augment(img), label\n",
    "    \n",
    "    return augment_with_labels if with_labels else augment\n",
    "\n",
    "\n",
    "def build_dataset(paths, labels = None, bsize = 32, cache = True,\n",
    "                  decode_fn = None, augment_fn = None,\n",
    "                  augment = True, repeat = True, shuffle = 1024, \n",
    "                  cache_dir = \"\"):\n",
    "    if cache_dir != \"\" and cache is True:\n",
    "        os.makedirs(cache_dir, exist_ok=True)\n",
    "    \n",
    "    if decode_fn is None:\n",
    "        decode_fn = build_decoder(labels is not None)\n",
    "    \n",
    "    if augment_fn is None:\n",
    "        augment_fn = build_augmenter(labels is not None)\n",
    "    \n",
    "    AUTO = tf.data.experimental.AUTOTUNE\n",
    "    slices = paths if labels is None else (paths, labels)\n",
    "    \n",
    "    dset = tf.data.Dataset.from_tensor_slices(slices)\n",
    "    dset = dset.map(decode_fn, num_parallel_calls = AUTO)\n",
    "    dset = dset.cache(cache_dir) if cache else dset\n",
    "    dset = dset.map(augment_fn, num_parallel_calls = AUTO) if augment else dset\n",
    "    dset = dset.repeat() if repeat else dset\n",
    "    dset = dset.shuffle(shuffle) if shuffle else dset\n",
    "    dset = dset.batch(bsize).prefetch(AUTO)\n",
    "    \n",
    "    return dset"
   ]
  },
  {
   "cell_type": "code",
   "execution_count": 11,
   "metadata": {
    "execution": {
     "iopub.execute_input": "2021-03-16T08:15:26.737679Z",
     "iopub.status.busy": "2021-03-16T08:15:26.736883Z",
     "iopub.status.idle": "2021-03-16T08:15:26.751724Z",
     "shell.execute_reply": "2021-03-16T08:15:26.751233Z"
    },
    "papermill": {
     "duration": 0.037959,
     "end_time": "2021-03-16T08:15:26.751816",
     "exception": false,
     "start_time": "2021-03-16T08:15:26.713857",
     "status": "completed"
    },
    "tags": []
   },
   "outputs": [
    {
     "data": {
      "text/plain": [
       "<PrefetchDataset shapes: (None, 750, 750, 3), types: tf.float32>"
      ]
     },
     "execution_count": 11,
     "metadata": {},
     "output_type": "execute_result"
    }
   ],
   "source": [
    "test_df_Xcep = build_dataset(\n",
    "    test_images, bsize = BATCH_SIZE, repeat = False, \n",
    "    shuffle = False, augment = False, cache = False)\n",
    "test_df_Xcep"
   ]
  },
  {
   "cell_type": "markdown",
   "metadata": {
    "papermill": {
     "duration": 0.017842,
     "end_time": "2021-03-16T08:15:26.786839",
     "exception": false,
     "start_time": "2021-03-16T08:15:26.768997",
     "status": "completed"
    },
    "tags": []
   },
   "source": [
    "# EffNetB4_CV"
   ]
  },
  {
   "cell_type": "code",
   "execution_count": 12,
   "metadata": {
    "_kg_hide-input": true,
    "execution": {
     "iopub.execute_input": "2021-03-16T08:15:26.846401Z",
     "iopub.status.busy": "2021-03-16T08:15:26.830570Z",
     "iopub.status.idle": "2021-03-16T08:15:26.850240Z",
     "shell.execute_reply": "2021-03-16T08:15:26.849550Z"
    },
    "papermill": {
     "duration": 0.045465,
     "end_time": "2021-03-16T08:15:26.850354",
     "exception": false,
     "start_time": "2021-03-16T08:15:26.804889",
     "status": "completed"
    },
    "tags": []
   },
   "outputs": [],
   "source": [
    "def build_decoder(with_labels = True,\n",
    "                  target_size = (TARGET_SIZE_1, TARGET_SIZE_1), \n",
    "                  ext = 'jpg'):\n",
    "    def decode(path):\n",
    "        file_bytes = tf.io.read_file(path)\n",
    "        if ext == 'png':\n",
    "            img = tf.image.decode_png(file_bytes, channels = 3)\n",
    "        elif ext in ['jpg', 'jpeg']:\n",
    "            img = tf.image.decode_jpeg(file_bytes, channels = 3)\n",
    "        else:\n",
    "            raise ValueError(\"Image extension not supported\")\n",
    "\n",
    "        img = tf.cast(img, tf.float32) / 255.0\n",
    "        img = tf.image.resize(img, target_size)\n",
    "\n",
    "        return img\n",
    "    \n",
    "    def decode_with_labels(path, label):\n",
    "        return decode(path), label\n",
    "    \n",
    "    return decode_with_labels if with_labels else decode\n",
    "\n",
    "\n",
    "def build_augmenter(with_labels = True):\n",
    "    def augment(img):\n",
    "        img = tf.image.random_flip_left_right(img)\n",
    "        img = tf.image.random_flip_up_down(img)\n",
    "        \n",
    "        p_rotate = tf.random.uniform([], 0, 1.0, dtype = tf.float32)\n",
    "        p_pixel_1 = tf.random.uniform([], 0, 1.0, dtype = tf.float32)\n",
    "        p_pixel_2 = tf.random.uniform([], 0, 1.0, dtype = tf.float32)\n",
    "        p_pixel_3 = tf.random.uniform([], 0, 1.0, dtype = tf.float32)\n",
    "#         p_crop = tf.random.uniform([], 0, 1.0, dtype = tf.float32)\n",
    "        \n",
    "        if p_rotate > .75:\n",
    "            img = tf.image.rot90(img, k = 3) # rotate 270º\n",
    "        elif p_rotate > .5:\n",
    "            img = tf.image.rot90(img, k = 2) # rotate 180º\n",
    "        elif p_rotate > .25:\n",
    "            img = tf.image.rot90(img, k = 1) # rotate 90º\n",
    "            \n",
    "        if p_pixel_1 >= .6:\n",
    "            img = tf.image.random_saturation(img, lower = 0.75, upper = 1.25)\n",
    "        if p_pixel_2 >= .6:\n",
    "            img = tf.image.random_contrast(img, lower = 0.75, upper = 1.25)\n",
    "        if p_pixel_3 >= .4:\n",
    "            img = tf.image.random_brightness(img, max_delta = 0.1)\n",
    "        \n",
    "#         if p_crop > .7:\n",
    "#             if p_crop > .9:\n",
    "#                 img = tf.image.central_crop(img, central_fraction=.75)\n",
    "#             elif p_crop > .8:\n",
    "#                 img = tf.image.central_crop(img, central_fraction=.85)\n",
    "#             else:\n",
    "#                 img = tf.image.central_crop(img, central_fraction=.95)\n",
    "#         elif p_crop > .4:\n",
    "#             crop_size = tf.random.uniform([], int(TARGET_SIZE * .85), TARGET_SIZE, dtype = tf.int32)\n",
    "#             img = tf.image.random_crop(img, size = [crop_size, crop_size, 3])\n",
    "        \n",
    "#         img = tf.image.resize(img, size = [TARGET_SIZE, TARGET_SIZE])\n",
    "        \n",
    "        return img\n",
    "    \n",
    "    def augment_with_labels(img, label):\n",
    "        return augment(img), label\n",
    "    \n",
    "    return augment_with_labels if with_labels else augment\n",
    "\n",
    "\n",
    "def build_dataset(paths, labels = None, bsize = 32, cache = True,\n",
    "                  decode_fn = None, augment_fn = None,\n",
    "                  augment = True, repeat = True, shuffle = 1024, \n",
    "                  cache_dir = \"\"):\n",
    "    if cache_dir != \"\" and cache is True:\n",
    "        os.makedirs(cache_dir, exist_ok=True)\n",
    "    \n",
    "    if decode_fn is None:\n",
    "        decode_fn = build_decoder(labels is not None)\n",
    "    \n",
    "    if augment_fn is None:\n",
    "        augment_fn = build_augmenter(labels is not None)\n",
    "    \n",
    "    AUTO = tf.data.experimental.AUTOTUNE\n",
    "    slices = paths if labels is None else (paths, labels)\n",
    "    \n",
    "    dset = tf.data.Dataset.from_tensor_slices(slices)\n",
    "    dset = dset.map(decode_fn, num_parallel_calls = AUTO)\n",
    "    dset = dset.cache(cache_dir) if cache else dset\n",
    "    dset = dset.map(augment_fn, num_parallel_calls = AUTO) if augment else dset\n",
    "    dset = dset.repeat() if repeat else dset\n",
    "    dset = dset.shuffle(shuffle) if shuffle else dset\n",
    "    dset = dset.batch(bsize).prefetch(AUTO)\n",
    "    \n",
    "    return dset"
   ]
  },
  {
   "cell_type": "code",
   "execution_count": 13,
   "metadata": {
    "execution": {
     "iopub.execute_input": "2021-03-16T08:15:26.891849Z",
     "iopub.status.busy": "2021-03-16T08:15:26.891012Z",
     "iopub.status.idle": "2021-03-16T08:15:26.905537Z",
     "shell.execute_reply": "2021-03-16T08:15:26.905100Z"
    },
    "papermill": {
     "duration": 0.038003,
     "end_time": "2021-03-16T08:15:26.905625",
     "exception": false,
     "start_time": "2021-03-16T08:15:26.867622",
     "status": "completed"
    },
    "tags": []
   },
   "outputs": [
    {
     "data": {
      "text/plain": [
       "<PrefetchDataset shapes: (None, 550, 550, 3), types: tf.float32>"
      ]
     },
     "execution_count": 13,
     "metadata": {},
     "output_type": "execute_result"
    }
   ],
   "source": [
    "test_df_B4 = build_dataset(\n",
    "    test_images, bsize = BATCH_SIZE, repeat = False, \n",
    "    shuffle = False, augment = False, cache = False)\n",
    "test_df_B4"
   ]
  },
  {
   "cell_type": "markdown",
   "metadata": {
    "papermill": {
     "duration": 0.017597,
     "end_time": "2021-03-16T08:15:26.941314",
     "exception": false,
     "start_time": "2021-03-16T08:15:26.923717",
     "status": "completed"
    },
    "tags": []
   },
   "source": [
    "# EffNetB7_architecture"
   ]
  },
  {
   "cell_type": "code",
   "execution_count": 14,
   "metadata": {
    "execution": {
     "iopub.execute_input": "2021-03-16T08:15:26.981551Z",
     "iopub.status.busy": "2021-03-16T08:15:26.980737Z",
     "iopub.status.idle": "2021-03-16T08:15:26.983604Z",
     "shell.execute_reply": "2021-03-16T08:15:26.983189Z"
    },
    "papermill": {
     "duration": 0.02465,
     "end_time": "2021-03-16T08:15:26.983691",
     "exception": false,
     "start_time": "2021-03-16T08:15:26.959041",
     "status": "completed"
    },
    "tags": []
   },
   "outputs": [],
   "source": [
    "# def create_model():\n",
    "#     conv_base = efn.EfficientNetB7(include_top = False, weights = 'imagenet',\n",
    "#                                    input_shape = (TARGET_SIZE, TARGET_SIZE, 3))\n",
    "#     model = conv_base.output\n",
    "#     model = layers.GlobalAveragePooling2D()(model)\n",
    "#     model = layers.Dropout(0.5)(model)\n",
    "#     model = layers.Dense(11, activation = \"sigmoid\")(model)\n",
    "#     model = models.Model(conv_base.input, model)\n",
    "\n",
    "#     model.compile(optimizer = Adam(lr = 0.00025),\n",
    "#                   loss = [tfa.losses.SigmoidFocalCrossEntropy(alpha = 0.5, gamma = 2)],\n",
    "#                   metrics = [tf.keras.metrics.AUC(multi_label = True)])\n",
    "#     return model"
   ]
  },
  {
   "cell_type": "markdown",
   "metadata": {
    "papermill": {
     "duration": 0.017667,
     "end_time": "2021-03-16T08:15:27.019075",
     "exception": false,
     "start_time": "2021-03-16T08:15:27.001408",
     "status": "completed"
    },
    "tags": []
   },
   "source": [
    "# Xception_architecture"
   ]
  },
  {
   "cell_type": "code",
   "execution_count": 15,
   "metadata": {
    "execution": {
     "iopub.execute_input": "2021-03-16T08:15:27.059054Z",
     "iopub.status.busy": "2021-03-16T08:15:27.058201Z",
     "iopub.status.idle": "2021-03-16T08:15:27.060666Z",
     "shell.execute_reply": "2021-03-16T08:15:27.061093Z"
    },
    "papermill": {
     "duration": 0.024378,
     "end_time": "2021-03-16T08:15:27.061204",
     "exception": false,
     "start_time": "2021-03-16T08:15:27.036826",
     "status": "completed"
    },
    "tags": []
   },
   "outputs": [],
   "source": [
    "# def create_model():\n",
    "#     conv_base = Xception(include_top = False, weights = 'imagenet',\n",
    "#                          input_shape = (TARGET_SIZE, TARGET_SIZE, 3))\n",
    "#     model = conv_base.output\n",
    "#     model = layers.GlobalAveragePooling2D()(model)\n",
    "#     model = layers.Dropout(0.3)(model)\n",
    "#     model = layers.Dense(11, activation = \"sigmoid\")(model)\n",
    "#     model = models.Model(conv_base.input, model)\n",
    "\n",
    "#     model.compile(optimizer = Adam(lr = 0.001),\n",
    "#                   loss = tfa.losses.SigmoidFocalCrossEntropy(alpha = 0.5, gamma = 2),\n",
    "#                   metrics = [tf.keras.metrics.AUC(multi_label = True)])\n",
    "#     return model"
   ]
  },
  {
   "cell_type": "markdown",
   "metadata": {
    "papermill": {
     "duration": 0.017869,
     "end_time": "2021-03-16T08:15:27.132898",
     "exception": false,
     "start_time": "2021-03-16T08:15:27.115029",
     "status": "completed"
    },
    "tags": []
   },
   "source": [
    "# EffNetB4_architecture"
   ]
  },
  {
   "cell_type": "code",
   "execution_count": 16,
   "metadata": {
    "execution": {
     "iopub.execute_input": "2021-03-16T08:15:27.173203Z",
     "iopub.status.busy": "2021-03-16T08:15:27.172436Z",
     "iopub.status.idle": "2021-03-16T08:15:27.175351Z",
     "shell.execute_reply": "2021-03-16T08:15:27.174945Z"
    },
    "papermill": {
     "duration": 0.024454,
     "end_time": "2021-03-16T08:15:27.175439",
     "exception": false,
     "start_time": "2021-03-16T08:15:27.150985",
     "status": "completed"
    },
    "tags": []
   },
   "outputs": [],
   "source": [
    "# def create_model():\n",
    "#     conv_base = efn.EfficientNetB4(include_top = False, weights = None,\n",
    "#                                    input_shape = (TARGET_SIZE, TARGET_SIZE, 3))\n",
    "#     model = conv_base.output\n",
    "#     model = layers.GlobalAveragePooling2D()(model)\n",
    "#     model = layers.Dropout(0.5)(model)\n",
    "#     model = layers.Dense(11, activation = \"sigmoid\")(model)\n",
    "#     model = models.Model(conv_base.input, model)\n",
    "\n",
    "#     model.compile(optimizer = Adam(lr = 0.0002),\n",
    "#                   loss = tfa.losses.SigmoidFocalCrossEntropy(alpha = 0.5, gamma = 2),\n",
    "#                   metrics = [tf.keras.metrics.AUC(multi_label = True)])\n",
    "#     return model"
   ]
  },
  {
   "cell_type": "markdown",
   "metadata": {
    "papermill": {
     "duration": 0.017881,
     "end_time": "2021-03-16T08:15:27.211615",
     "exception": false,
     "start_time": "2021-03-16T08:15:27.193734",
     "status": "completed"
    },
    "tags": []
   },
   "source": [
    "# Prediction"
   ]
  },
  {
   "cell_type": "code",
   "execution_count": 17,
   "metadata": {
    "execution": {
     "iopub.execute_input": "2021-03-16T08:15:27.253084Z",
     "iopub.status.busy": "2021-03-16T08:15:27.252524Z",
     "iopub.status.idle": "2021-03-16T08:21:47.110558Z",
     "shell.execute_reply": "2021-03-16T08:21:47.109796Z"
    },
    "papermill": {
     "duration": 379.880449,
     "end_time": "2021-03-16T08:21:47.110677",
     "exception": false,
     "start_time": "2021-03-16T08:15:27.230228",
     "status": "completed"
    },
    "tags": []
   },
   "outputs": [
    {
     "name": "stdout",
     "output_type": "stream",
     "text": [
      "448/448 [==============================] - 347s 774ms/step\n"
     ]
    }
   ],
   "source": [
    "# B7\n",
    "model_B7 = models.load_model('../input/effnetb7-tpu/Efnet_750_B7_TPU.h5')\n",
    "\n",
    "ss[label_cols] += model_B7.predict(test_df_B7, verbose = 1) * 0.5"
   ]
  },
  {
   "cell_type": "code",
   "execution_count": 18,
   "metadata": {
    "execution": {
     "iopub.execute_input": "2021-03-16T08:21:47.401998Z",
     "iopub.status.busy": "2021-03-16T08:21:47.401362Z",
     "iopub.status.idle": "2021-03-16T08:26:12.747572Z",
     "shell.execute_reply": "2021-03-16T08:26:12.748360Z"
    },
    "papermill": {
     "duration": 265.496347,
     "end_time": "2021-03-16T08:26:12.748571",
     "exception": false,
     "start_time": "2021-03-16T08:21:47.252224",
     "status": "completed"
    },
    "tags": []
   },
   "outputs": [
    {
     "name": "stdout",
     "output_type": "stream",
     "text": [
      "448/448 [==============================] - 255s 570ms/step\n"
     ]
    }
   ],
   "source": [
    "# Xcep\n",
    "model_Xcep = models.load_model('../input/ranzcr-xception-tpu-baseline/Xception_750_TPU.h5')\n",
    "\n",
    "ss[label_cols] += model_Xcep.predict(test_df_Xcep, verbose = 1) * 0.3"
   ]
  },
  {
   "cell_type": "code",
   "execution_count": 19,
   "metadata": {
    "execution": {
     "iopub.execute_input": "2021-03-16T08:26:13.457136Z",
     "iopub.status.busy": "2021-03-16T08:26:13.456589Z",
     "iopub.status.idle": "2021-03-16T08:56:20.782669Z",
     "shell.execute_reply": "2021-03-16T08:56:20.782136Z"
    },
    "papermill": {
     "duration": 1807.600983,
     "end_time": "2021-03-16T08:56:20.782788",
     "exception": false,
     "start_time": "2021-03-16T08:26:13.181805",
     "status": "completed"
    },
    "tags": []
   },
   "outputs": [
    {
     "name": "stdout",
     "output_type": "stream",
     "text": [
      "Predicting model #1\n",
      "448/448 [==============================] - 241s 538ms/step\n",
      "Predicting model #2\n",
      "448/448 [==============================] - 243s 543ms/step\n",
      "Predicting model #3\n",
      "448/448 [==============================] - 243s 542ms/step\n",
      "Predicting model #4\n",
      "448/448 [==============================] - 244s 544ms/step\n",
      "Predicting model #5\n",
      "448/448 [==============================] - 243s 543ms/step\n",
      "Predicting model #6\n",
      "448/448 [==============================] - 245s 548ms/step\n",
      "Predicting model #7\n",
      "448/448 [==============================] - 245s 547ms/step\n"
     ]
    }
   ],
   "source": [
    "# B4_CV\n",
    "model_0 = models.load_model('../input/ranzcr-efb4-cv-tr/EfB4_550_0.h5')\n",
    "model_1 = models.load_model('../input/ranzcr-efb4-cv-tr/EfB4_550_1.h5')\n",
    "model_2 = models.load_model('../input/ranzcr-efb4-cv-tr/EfB4_550_2.h5')\n",
    "model_3 = models.load_model('../input/ranzcr-efb4-cv-tr/EfB4_550_3.h5')\n",
    "model_4 = models.load_model('../input/ranzcr-efb4-cv-tr/EfB4_550_4.h5')\n",
    "model_5 = models.load_model('../input/ranzcr-efb4-cv-tr/EfB4_550_5.h5')\n",
    "model_6 = models.load_model('../input/ranzcr-efb4-cv-tr/EfB4_550_6.h5')\n",
    "\n",
    "models_b4 = [model_0, model_1, model_2, model_3, model_4, model_5, model_6]\n",
    "\n",
    "FOLDS = 7\n",
    "i = 1\n",
    "for model in models_b4:\n",
    "    print('Predicting model #{}'.format(i))\n",
    "    i += 1\n",
    "    ss[label_cols] += model.predict(test_df_B4, verbose = 1) / FOLDS * 0.2"
   ]
  },
  {
   "cell_type": "markdown",
   "metadata": {},
   "source": [
    "# FINAL SUBMISSION (Private Score - 0.96117)"
   ]
  },
  {
   "cell_type": "code",
   "execution_count": 20,
   "metadata": {
    "execution": {
     "iopub.execute_input": "2021-03-16T08:56:23.148305Z",
     "iopub.status.busy": "2021-03-16T08:56:23.147392Z",
     "iopub.status.idle": "2021-03-16T08:56:23.435491Z",
     "shell.execute_reply": "2021-03-16T08:56:23.435899Z"
    },
    "papermill": {
     "duration": 1.443858,
     "end_time": "2021-03-16T08:56:23.436046",
     "exception": false,
     "start_time": "2021-03-16T08:56:21.992188",
     "status": "completed"
    },
    "tags": []
   },
   "outputs": [
    {
     "data": {
      "text/html": [
       "<div>\n",
       "<style scoped>\n",
       "    .dataframe tbody tr th:only-of-type {\n",
       "        vertical-align: middle;\n",
       "    }\n",
       "\n",
       "    .dataframe tbody tr th {\n",
       "        vertical-align: top;\n",
       "    }\n",
       "\n",
       "    .dataframe thead th {\n",
       "        text-align: right;\n",
       "    }\n",
       "</style>\n",
       "<table border=\"1\" class=\"dataframe\">\n",
       "  <thead>\n",
       "    <tr style=\"text-align: right;\">\n",
       "      <th></th>\n",
       "      <th>StudyInstanceUID</th>\n",
       "      <th>ETT - Abnormal</th>\n",
       "      <th>ETT - Borderline</th>\n",
       "      <th>ETT - Normal</th>\n",
       "      <th>NGT - Abnormal</th>\n",
       "      <th>NGT - Borderline</th>\n",
       "      <th>NGT - Incompletely Imaged</th>\n",
       "      <th>NGT - Normal</th>\n",
       "      <th>CVC - Abnormal</th>\n",
       "      <th>CVC - Borderline</th>\n",
       "      <th>CVC - Normal</th>\n",
       "      <th>Swan Ganz Catheter Present</th>\n",
       "    </tr>\n",
       "  </thead>\n",
       "  <tbody>\n",
       "    <tr>\n",
       "      <th>0</th>\n",
       "      <td>1.2.826.0.1.3680043.8.498.46923145579096002617...</td>\n",
       "      <td>0.094909</td>\n",
       "      <td>0.285178</td>\n",
       "      <td>0.646592</td>\n",
       "      <td>0.066704</td>\n",
       "      <td>0.129690</td>\n",
       "      <td>0.196009</td>\n",
       "      <td>0.720162</td>\n",
       "      <td>0.159397</td>\n",
       "      <td>0.333510</td>\n",
       "      <td>0.746958</td>\n",
       "      <td>0.914291</td>\n",
       "    </tr>\n",
       "    <tr>\n",
       "      <th>1</th>\n",
       "      <td>1.2.826.0.1.3680043.8.498.84006870182611080091...</td>\n",
       "      <td>0.007270</td>\n",
       "      <td>0.006673</td>\n",
       "      <td>0.005062</td>\n",
       "      <td>0.008529</td>\n",
       "      <td>0.017918</td>\n",
       "      <td>0.005382</td>\n",
       "      <td>0.004215</td>\n",
       "      <td>0.079160</td>\n",
       "      <td>0.065045</td>\n",
       "      <td>0.941784</td>\n",
       "      <td>0.005892</td>\n",
       "    </tr>\n",
       "    <tr>\n",
       "      <th>2</th>\n",
       "      <td>1.2.826.0.1.3680043.8.498.12219033294413119947...</td>\n",
       "      <td>0.017504</td>\n",
       "      <td>0.020111</td>\n",
       "      <td>0.012239</td>\n",
       "      <td>0.023226</td>\n",
       "      <td>0.024296</td>\n",
       "      <td>0.016679</td>\n",
       "      <td>0.022756</td>\n",
       "      <td>0.129232</td>\n",
       "      <td>0.471548</td>\n",
       "      <td>0.618678</td>\n",
       "      <td>0.008469</td>\n",
       "    </tr>\n",
       "    <tr>\n",
       "      <th>3</th>\n",
       "      <td>1.2.826.0.1.3680043.8.498.84994474380235968109...</td>\n",
       "      <td>0.103887</td>\n",
       "      <td>0.159696</td>\n",
       "      <td>0.200652</td>\n",
       "      <td>0.162909</td>\n",
       "      <td>0.175489</td>\n",
       "      <td>0.722855</td>\n",
       "      <td>0.166577</td>\n",
       "      <td>0.306858</td>\n",
       "      <td>0.259110</td>\n",
       "      <td>0.625241</td>\n",
       "      <td>0.058964</td>\n",
       "    </tr>\n",
       "    <tr>\n",
       "      <th>4</th>\n",
       "      <td>1.2.826.0.1.3680043.8.498.35798987793805669662...</td>\n",
       "      <td>0.014911</td>\n",
       "      <td>0.029539</td>\n",
       "      <td>0.029826</td>\n",
       "      <td>0.016025</td>\n",
       "      <td>0.034648</td>\n",
       "      <td>0.013846</td>\n",
       "      <td>0.035396</td>\n",
       "      <td>0.114872</td>\n",
       "      <td>0.253875</td>\n",
       "      <td>0.852963</td>\n",
       "      <td>0.010548</td>\n",
       "    </tr>\n",
       "    <tr>\n",
       "      <th>...</th>\n",
       "      <td>...</td>\n",
       "      <td>...</td>\n",
       "      <td>...</td>\n",
       "      <td>...</td>\n",
       "      <td>...</td>\n",
       "      <td>...</td>\n",
       "      <td>...</td>\n",
       "      <td>...</td>\n",
       "      <td>...</td>\n",
       "      <td>...</td>\n",
       "      <td>...</td>\n",
       "      <td>...</td>\n",
       "    </tr>\n",
       "    <tr>\n",
       "      <th>3577</th>\n",
       "      <td>1.2.826.0.1.3680043.8.498.81464483108873296584...</td>\n",
       "      <td>0.038316</td>\n",
       "      <td>0.027799</td>\n",
       "      <td>0.019039</td>\n",
       "      <td>0.108240</td>\n",
       "      <td>0.166932</td>\n",
       "      <td>0.740333</td>\n",
       "      <td>0.211226</td>\n",
       "      <td>0.088519</td>\n",
       "      <td>0.216131</td>\n",
       "      <td>0.847468</td>\n",
       "      <td>0.021149</td>\n",
       "    </tr>\n",
       "    <tr>\n",
       "      <th>3578</th>\n",
       "      <td>1.2.826.0.1.3680043.8.498.33579133018211530710...</td>\n",
       "      <td>0.016379</td>\n",
       "      <td>0.018568</td>\n",
       "      <td>0.012727</td>\n",
       "      <td>0.023395</td>\n",
       "      <td>0.030373</td>\n",
       "      <td>0.008195</td>\n",
       "      <td>0.021875</td>\n",
       "      <td>0.486562</td>\n",
       "      <td>0.476668</td>\n",
       "      <td>0.314188</td>\n",
       "      <td>0.022009</td>\n",
       "    </tr>\n",
       "    <tr>\n",
       "      <th>3579</th>\n",
       "      <td>1.2.826.0.1.3680043.8.498.61472811086105902907...</td>\n",
       "      <td>0.008094</td>\n",
       "      <td>0.012083</td>\n",
       "      <td>0.009175</td>\n",
       "      <td>0.013505</td>\n",
       "      <td>0.021530</td>\n",
       "      <td>0.007464</td>\n",
       "      <td>0.011909</td>\n",
       "      <td>0.072531</td>\n",
       "      <td>0.322912</td>\n",
       "      <td>0.723325</td>\n",
       "      <td>0.006533</td>\n",
       "    </tr>\n",
       "    <tr>\n",
       "      <th>3580</th>\n",
       "      <td>1.2.826.0.1.3680043.8.498.19434375795525494655...</td>\n",
       "      <td>0.012428</td>\n",
       "      <td>0.024656</td>\n",
       "      <td>0.013526</td>\n",
       "      <td>0.015527</td>\n",
       "      <td>0.022521</td>\n",
       "      <td>0.014183</td>\n",
       "      <td>0.023475</td>\n",
       "      <td>0.222440</td>\n",
       "      <td>0.610449</td>\n",
       "      <td>0.349628</td>\n",
       "      <td>0.008968</td>\n",
       "    </tr>\n",
       "    <tr>\n",
       "      <th>3581</th>\n",
       "      <td>1.2.826.0.1.3680043.8.498.21182456828145534541...</td>\n",
       "      <td>0.008565</td>\n",
       "      <td>0.014775</td>\n",
       "      <td>0.025869</td>\n",
       "      <td>0.011179</td>\n",
       "      <td>0.012565</td>\n",
       "      <td>0.008162</td>\n",
       "      <td>0.004709</td>\n",
       "      <td>0.091852</td>\n",
       "      <td>0.133236</td>\n",
       "      <td>0.910808</td>\n",
       "      <td>0.004911</td>\n",
       "    </tr>\n",
       "  </tbody>\n",
       "</table>\n",
       "<p>3582 rows × 12 columns</p>\n",
       "</div>"
      ],
      "text/plain": [
       "                                       StudyInstanceUID  ETT - Abnormal  \\\n",
       "0     1.2.826.0.1.3680043.8.498.46923145579096002617...        0.094909   \n",
       "1     1.2.826.0.1.3680043.8.498.84006870182611080091...        0.007270   \n",
       "2     1.2.826.0.1.3680043.8.498.12219033294413119947...        0.017504   \n",
       "3     1.2.826.0.1.3680043.8.498.84994474380235968109...        0.103887   \n",
       "4     1.2.826.0.1.3680043.8.498.35798987793805669662...        0.014911   \n",
       "...                                                 ...             ...   \n",
       "3577  1.2.826.0.1.3680043.8.498.81464483108873296584...        0.038316   \n",
       "3578  1.2.826.0.1.3680043.8.498.33579133018211530710...        0.016379   \n",
       "3579  1.2.826.0.1.3680043.8.498.61472811086105902907...        0.008094   \n",
       "3580  1.2.826.0.1.3680043.8.498.19434375795525494655...        0.012428   \n",
       "3581  1.2.826.0.1.3680043.8.498.21182456828145534541...        0.008565   \n",
       "\n",
       "      ETT - Borderline  ETT - Normal  NGT - Abnormal  NGT - Borderline  \\\n",
       "0             0.285178      0.646592        0.066704          0.129690   \n",
       "1             0.006673      0.005062        0.008529          0.017918   \n",
       "2             0.020111      0.012239        0.023226          0.024296   \n",
       "3             0.159696      0.200652        0.162909          0.175489   \n",
       "4             0.029539      0.029826        0.016025          0.034648   \n",
       "...                ...           ...             ...               ...   \n",
       "3577          0.027799      0.019039        0.108240          0.166932   \n",
       "3578          0.018568      0.012727        0.023395          0.030373   \n",
       "3579          0.012083      0.009175        0.013505          0.021530   \n",
       "3580          0.024656      0.013526        0.015527          0.022521   \n",
       "3581          0.014775      0.025869        0.011179          0.012565   \n",
       "\n",
       "      NGT - Incompletely Imaged  NGT - Normal  CVC - Abnormal  \\\n",
       "0                      0.196009      0.720162        0.159397   \n",
       "1                      0.005382      0.004215        0.079160   \n",
       "2                      0.016679      0.022756        0.129232   \n",
       "3                      0.722855      0.166577        0.306858   \n",
       "4                      0.013846      0.035396        0.114872   \n",
       "...                         ...           ...             ...   \n",
       "3577                   0.740333      0.211226        0.088519   \n",
       "3578                   0.008195      0.021875        0.486562   \n",
       "3579                   0.007464      0.011909        0.072531   \n",
       "3580                   0.014183      0.023475        0.222440   \n",
       "3581                   0.008162      0.004709        0.091852   \n",
       "\n",
       "      CVC - Borderline  CVC - Normal  Swan Ganz Catheter Present  \n",
       "0             0.333510      0.746958                    0.914291  \n",
       "1             0.065045      0.941784                    0.005892  \n",
       "2             0.471548      0.618678                    0.008469  \n",
       "3             0.259110      0.625241                    0.058964  \n",
       "4             0.253875      0.852963                    0.010548  \n",
       "...                ...           ...                         ...  \n",
       "3577          0.216131      0.847468                    0.021149  \n",
       "3578          0.476668      0.314188                    0.022009  \n",
       "3579          0.322912      0.723325                    0.006533  \n",
       "3580          0.610449      0.349628                    0.008968  \n",
       "3581          0.133236      0.910808                    0.004911  \n",
       "\n",
       "[3582 rows x 12 columns]"
      ]
     },
     "execution_count": 20,
     "metadata": {},
     "output_type": "execute_result"
    }
   ],
   "source": [
    "ss.to_csv('submission.csv', index = False)\n",
    "ss"
   ]
  }
 ],
 "metadata": {
  "kernelspec": {
   "display_name": "Python 3",
   "language": "python",
   "name": "python3"
  },
  "language_info": {
   "codemirror_mode": {
    "name": "ipython",
    "version": 3
   },
   "file_extension": ".py",
   "mimetype": "text/x-python",
   "name": "python",
   "nbconvert_exporter": "python",
   "pygments_lexer": "ipython3",
   "version": "3.7.6"
  },
  "papermill": {
   "duration": 2526.702987,
   "end_time": "2021-03-16T08:56:26.630809",
   "environment_variables": {},
   "exception": null,
   "input_path": "__notebook__.ipynb",
   "output_path": "__notebook__.ipynb",
   "parameters": {},
   "start_time": "2021-03-16T08:14:19.927822",
   "version": "2.1.0"
  }
 },
 "nbformat": 4,
 "nbformat_minor": 4
}
